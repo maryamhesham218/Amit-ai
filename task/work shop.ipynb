{
 "cells": [
  {
   "cell_type": "markdown",
   "id": "58e7549c",
   "metadata": {},
   "source": [
    "task 1.\n",
    "calculate factorial using recursion"
   ]
  },
  {
   "cell_type": "code",
   "execution_count": 14,
   "id": "c4230537",
   "metadata": {},
   "outputs": [],
   "source": [
    "\n",
    "def factoriol(x):\n",
    "    if x == 0:\n",
    "        return 0\n",
    "    if x == 1:\n",
    "        return 1\n",
    "    return x * factoriol(x-1)\n"
   ]
  },
  {
   "cell_type": "code",
   "execution_count": 18,
   "id": "fc9d96f7",
   "metadata": {},
   "outputs": [
    {
     "data": {
      "text/plain": [
       "720"
      ]
     },
     "execution_count": 18,
     "metadata": {},
     "output_type": "execute_result"
    }
   ],
   "source": [
    "z=int(input())\n",
    "factoriol(z)"
   ]
  },
  {
   "cell_type": "markdown",
   "id": "df94c5f3",
   "metadata": {},
   "source": [
    "task 2.\n",
    "write a function  that task a number and return true if this number is prime and false if not"
   ]
  },
  {
   "cell_type": "code",
   "execution_count": 26,
   "id": "a0869c30",
   "metadata": {},
   "outputs": [
    {
     "data": {
      "text/plain": [
       "True"
      ]
     },
     "execution_count": 26,
     "metadata": {},
     "output_type": "execute_result"
    }
   ],
   "source": [
    "def isprime(num):\n",
    "    for i in range(2, num):\n",
    "        if num % i ==0:\n",
    "            return False\n",
    "    return True\n",
    "isprime(2)"
   ]
  },
  {
   "cell_type": "markdown",
   "id": "a003904d",
   "metadata": {},
   "source": [
    "task 3.\n",
    "write a function that takes two numbers and return a list of common  dividors"
   ]
  },
  {
   "cell_type": "code",
   "execution_count": null,
   "id": "dface3db",
   "metadata": {},
   "outputs": [
    {
     "data": {
      "text/plain": [
       "[1, 2, 4, 5, 10, 20, 25, 50, 100]"
      ]
     },
     "execution_count": 29,
     "metadata": {},
     "output_type": "execute_result"
    }
   ],
   "source": [
    "def dividors(num1,num2):\n",
    "    mn = min(num1,num2)\n",
    "    common_dividors = []\n",
    "    for i in range(1,mn+1):\n",
    "        if num1 % i == 0 and num2 % i == 0:\n",
    "            common_dividors.append(i)\n",
    "    return common_dividors\n",
    "dividors(1000,100)"
   ]
  },
  {
   "cell_type": "code",
   "execution_count": null,
   "id": "2d3f184d",
   "metadata": {},
   "outputs": [],
   "source": []
  }
 ],
 "metadata": {
  "kernelspec": {
   "display_name": "venv",
   "language": "python",
   "name": "python3"
  },
  "language_info": {
   "codemirror_mode": {
    "name": "ipython",
    "version": 3
   },
   "file_extension": ".py",
   "mimetype": "text/x-python",
   "name": "python",
   "nbconvert_exporter": "python",
   "pygments_lexer": "ipython3",
   "version": "3.12.4"
  }
 },
 "nbformat": 4,
 "nbformat_minor": 5
}
