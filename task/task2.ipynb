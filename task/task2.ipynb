{
 "cells": [
  {
   "cell_type": "markdown",
   "id": "4a2b8402",
   "metadata": {},
   "source": [
    "1. Write a Python program to add an item to a tuple."
   ]
  },
  {
   "cell_type": "code",
   "execution_count": null,
   "id": "b23d8d7c",
   "metadata": {},
   "outputs": [],
   "source": [
    "list_one = [\"amit\",\"learning\",\"python\"]\n",
    "list_one .append(\"maryam\")\n",
    "print(list_one)"
   ]
  },
  {
   "cell_type": "markdown",
   "id": "2734bd7c",
   "metadata": {},
   "source": [
    "2. Write a Python program to sum all the items in a list."
   ]
  },
  {
   "cell_type": "code",
   "execution_count": 9,
   "id": "7a7f28b8",
   "metadata": {},
   "outputs": [
    {
     "name": "stdout",
     "output_type": "stream",
     "text": [
      "21\n"
     ]
    }
   ],
   "source": [
    "numbur=(1,2,3,4,5,6)\n",
    "totel =sum(numbur)\n",
    "print(totel)"
   ]
  },
  {
   "cell_type": "markdown",
   "id": "79cdadd6",
   "metadata": {},
   "source": [
    "3. Write a Python program to multiply all the items in a list. ***"
   ]
  },
  {
   "cell_type": "code",
   "execution_count": 35,
   "id": "3d5780b0",
   "metadata": {},
   "outputs": [
    {
     "name": "stdout",
     "output_type": "stream",
     "text": [
      "All items got hit: 1\n"
     ]
    }
   ],
   "source": [
    "numbur=(1,2,3,4,5,6)\n",
    "numbur2 = 1\n",
    "for num in numbur:\n",
    "    numbur *= num\n",
    "print(\"All items got hit:\", numbur2)"
   ]
  },
  {
   "cell_type": "markdown",
   "id": "26b758ac",
   "metadata": {},
   "source": [
    "4. Write a Python program to get the smallest number from a list."
   ]
  },
  {
   "cell_type": "code",
   "execution_count": 1,
   "id": "0a0818fc",
   "metadata": {},
   "outputs": [
    {
     "name": "stdout",
     "output_type": "stream",
     "text": [
      "1\n"
     ]
    }
   ],
   "source": [
    "numbur=(2,3,4,5,6,72,1,44)\n",
    "smallest=min(numbur)\n",
    "print(smallest)"
   ]
  },
  {
   "cell_type": "markdown",
   "id": "b2545a62",
   "metadata": {},
   "source": [
    "5. Write a Python program to get the largest number from a list."
   ]
  },
  {
   "cell_type": "code",
   "execution_count": 18,
   "id": "3a1a0bfd",
   "metadata": {},
   "outputs": [
    {
     "name": "stdout",
     "output_type": "stream",
     "text": [
      "72\n"
     ]
    }
   ],
   "source": [
    "numbur=[1,2,3,4,5,6,44,72]\n",
    "largest=max(numbur)\n",
    "print(smallest)"
   ]
  },
  {
   "cell_type": "markdown",
   "id": "80876523",
   "metadata": {},
   "source": [
    "6. Write a Python program to count the number of strings from a given list of\n",
    "strings."
   ]
  },
  {
   "cell_type": "code",
   "execution_count": 7,
   "id": "30de6b92",
   "metadata": {},
   "outputs": [
    {
     "name": "stdout",
     "output_type": "stream",
     "text": [
      "9\n"
     ]
    }
   ],
   "source": [
    "my_list = [ 1,2,3,4,5,6,7,\"maryam\",\"hesham\"]\n",
    "count = len(my_list)\n",
    "print(count)"
   ]
  },
  {
   "cell_type": "markdown",
   "id": "914bd198",
   "metadata": {},
   "source": [
    "7. Write a Python program to clone or copy a list"
   ]
  },
  {
   "cell_type": "code",
   "execution_count": 9,
   "id": "ef2ebd2c",
   "metadata": {},
   "outputs": [
    {
     "name": "stdout",
     "output_type": "stream",
     "text": [
      "['maryam', 'hesham']\n"
     ]
    }
   ],
   "source": [
    "my_list=[\"maryam\",\"hesham\"]\n",
    "copy_list = my_list[:]\n",
    "print(copy_list)"
   ]
  },
  {
   "cell_type": "markdown",
   "id": "cdc9c82d",
   "metadata": {},
   "source": [
    "8. Write a Python program to remove item(s) from a given set."
   ]
  },
  {
   "cell_type": "code",
   "execution_count": 13,
   "id": "ac9e8576",
   "metadata": {},
   "outputs": [
    {
     "name": "stdout",
     "output_type": "stream",
     "text": [
      "[1, 2, 3, 4, 5, 6, [1, 2, 3, 'maryam']]\n"
     ]
    }
   ],
   "source": [
    "list_one = [1,2,3,4,5,6,[1,2,3,\"maryam\",5]]\n",
    "del list_one[6][4]\n",
    "print(list_one)"
   ]
  },
  {
   "cell_type": "markdown",
   "id": "b5c7e299",
   "metadata": {},
   "source": [
    "9. Write a Python program to check if a set is a subset of another set."
   ]
  },
  {
   "cell_type": "code",
   "execution_count": 22,
   "id": "07e1ae90",
   "metadata": {},
   "outputs": [
    {
     "name": "stdout",
     "output_type": "stream",
     "text": [
      "True\n"
     ]
    }
   ],
   "source": [
    "list_one = [1, 2, 3]\n",
    "list_two = [1, 2, 3, 4, 5, 6]\n",
    "\n",
    "if all(elem in list_two for elem in list_one):\n",
    "    print(\"True\")\n",
    "else:\n",
    "    print(\"false\")"
   ]
  },
  {
   "cell_type": "markdown",
   "id": "759d7586",
   "metadata": {},
   "source": [
    "10. Write a Python program to remove all elements from a given set."
   ]
  },
  {
   "cell_type": "code",
   "execution_count": 17,
   "id": "04bd5a82",
   "metadata": {},
   "outputs": [
    {
     "name": "stdout",
     "output_type": "stream",
     "text": [
      "[1, 2, 3, 4, 5, 6]\n"
     ]
    }
   ],
   "source": [
    "list_one = [1,2,3,4,5,6,[1,2,3,\"maryam\",5]]\n",
    "del list_one[6]\n",
    "print(list_one)"
   ]
  },
  {
   "cell_type": "markdown",
   "id": "ef324d29",
   "metadata": {},
   "source": [
    "11. Write a Python program to find the maximum and minimum values in a set."
   ]
  },
  {
   "cell_type": "code",
   "execution_count": 21,
   "id": "06f84ec6",
   "metadata": {},
   "outputs": [
    {
     "name": "stdout",
     "output_type": "stream",
     "text": [
      "1 55\n"
     ]
    }
   ],
   "source": [
    "numbur = [1,2,3,4,5,6,7,8,33,44,55,23,45]\n",
    "minimum = min(numbur)\n",
    "maxmum = max(numbur)\n",
    "print(minimum  , maxmum  )"
   ]
  },
  {
   "cell_type": "markdown",
   "id": "26de52b6",
   "metadata": {},
   "source": [
    "12. Write a Python program to find the index of an item in a tuple. ******"
   ]
  },
  {
   "cell_type": "code",
   "execution_count": 23,
   "id": "3895f945",
   "metadata": {},
   "outputs": [
    {
     "name": "stdout",
     "output_type": "stream",
     "text": [
      "The index of '5' is: 4\n"
     ]
    }
   ],
   "source": [
    "my_tuple = (1,2,3,4,5,6,7,8,9,10)\n",
    "\n",
    "item = int(input(\"Enter number between 1 : 10 :- \"))\n",
    "\n",
    "index = my_tuple.index(item)\n",
    "\n",
    "print(f\"The index of '{item}' is: {index}\")"
   ]
  },
  {
   "cell_type": "markdown",
   "id": "2390297d",
   "metadata": {},
   "source": [
    "13. Write a Python program to convert a tuple to a dictionary. ****"
   ]
  },
  {
   "cell_type": "code",
   "execution_count": 25,
   "id": "a363fbb6",
   "metadata": {},
   "outputs": [
    {
     "name": "stdout",
     "output_type": "stream",
     "text": [
      "<class 'tuple'>\n",
      "<class 'dict'>\n",
      "{1: 'a', 2: 'b', 3: 'c'}\n"
     ]
    }
   ],
   "source": [
    "my_tuple = (( 1, \"a\"), (2 , \"b\") , (3,\"c\"))\n",
    "print(type(my_tuple))\n",
    "\n",
    "x= dict(my_tuple)\n",
    "\n",
    "print (type(x))\n",
    "print(x)"
   ]
  },
  {
   "cell_type": "markdown",
   "id": "c6f55b5d",
   "metadata": {},
   "source": [
    "14. Write a Python program to unzip a list of tuples into individual lists."
   ]
  },
  {
   "cell_type": "code",
   "execution_count": 26,
   "id": "71736fc3",
   "metadata": {},
   "outputs": [
    {
     "name": "stdout",
     "output_type": "stream",
     "text": [
      "('m', 'a', 'r', 'y', 'a', 'm')\n"
     ]
    }
   ],
   "source": [
    "name = \"maryam\"\n",
    "tuple = tuple(name)\n",
    "print(tuple)"
   ]
  },
  {
   "cell_type": "markdown",
   "id": "6a63fabe",
   "metadata": {},
   "source": [
    "15. Write a Python program to reverse a tuple."
   ]
  },
  {
   "cell_type": "code",
   "execution_count": 27,
   "id": "0b2875ae",
   "metadata": {},
   "outputs": [
    {
     "name": "stdout",
     "output_type": "stream",
     "text": [
      "[6, 5, 4, 3, 2, 1]\n"
     ]
    }
   ],
   "source": [
    "numbur=[1,2,3,4,5,6]\n",
    "numbur.reverse()\n",
    "print(numbur)"
   ]
  },
  {
   "cell_type": "markdown",
   "id": "aadea5aa",
   "metadata": {},
   "source": [
    "16. Write a Python program to convert a list of tuples into a dictionary. ****"
   ]
  },
  {
   "cell_type": "code",
   "execution_count": 28,
   "id": "c479d293",
   "metadata": {},
   "outputs": [
    {
     "name": "stdout",
     "output_type": "stream",
     "text": [
      "<class 'list'>\n",
      "<class 'dict'>\n",
      "{'apple': 'red', 'banana': 'yellow', 'grapes': 'purple'}\n"
     ]
    }
   ],
   "source": [
    "tuple_list = [('apple', 'red'), ('banana', 'yellow'), ('grapes', 'purple')]\n",
    "\n",
    "fruit_colors = dict(tuple_list)\n",
    "\n",
    "print(type(tuple_list))\n",
    "print(type(fruit_colors))\n",
    "print(fruit_colors)"
   ]
  },
  {
   "cell_type": "markdown",
   "id": "d8013f34",
   "metadata": {},
   "source": [
    "17. Write a Python program to replace the last value of tuples in a list."
   ]
  },
  {
   "cell_type": "code",
   "execution_count": 29,
   "id": "09a93c03",
   "metadata": {},
   "outputs": [
    {
     "name": "stdout",
     "output_type": "stream",
     "text": [
      "[(10, 20, 100), (40, 50, 100), (70, 80, 100)]\n"
     ]
    }
   ],
   "source": [
    "data = [(10, 20, 40), (40, 50, 60), (70, 80, 90)]\n",
    "modified_data = [t[:-1] + (100,) for t in data]\n",
    "print(modified_data)"
   ]
  },
  {
   "cell_type": "markdown",
   "id": "39ae06f0",
   "metadata": {},
   "source": [
    "18. Write a Python program to sort a tuple by its float element. *****"
   ]
  },
  {
   "cell_type": "code",
   "execution_count": 30,
   "id": "3f6ea2a6",
   "metadata": {},
   "outputs": [
    {
     "name": "stdout",
     "output_type": "stream",
     "text": [
      "['item4: 1.0', 'item2: 3.2', 'item3: 7.8', 'item1: 10.5']\n"
     ]
    }
   ],
   "source": [
    "data = [\"item1: 10.5\", \"item2: 3.2\", \"item3: 7.8\", \"item4: 1.0\"]\n",
    "sorted_data = sorted(data, key=lambda x: float(x.split(\":\")[1]))\n",
    "print(sorted_data)"
   ]
  }
 ],
 "metadata": {
  "kernelspec": {
   "display_name": "venv",
   "language": "python",
   "name": "python3"
  },
  "language_info": {
   "codemirror_mode": {
    "name": "ipython",
    "version": 3
   },
   "file_extension": ".py",
   "mimetype": "text/x-python",
   "name": "python",
   "nbconvert_exporter": "python",
   "pygments_lexer": "ipython3",
   "version": "3.12.4"
  }
 },
 "nbformat": 4,
 "nbformat_minor": 5
}
