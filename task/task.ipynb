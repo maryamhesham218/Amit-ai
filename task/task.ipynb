{
 "cells": [
  {
   "cell_type": "markdown",
   "id": "16d0bbce",
   "metadata": {},
   "source": [
    "task 1"
   ]
  },
  {
   "cell_type": "code",
   "execution_count": 39,
   "id": "57b45596",
   "metadata": {},
   "outputs": [
    {
     "name": "stdout",
     "output_type": "stream",
     "text": [
      "maryam@gmail.com\n",
      "valid email\n"
     ]
    }
   ],
   "source": [
    "email= input(\"pleas enter your email\")\n",
    "print(email)\n",
    "\n",
    "if email.count(\"@\") == 1 and email.count(\".\") >= 1 : \n",
    "     print (\"valid email\")\n",
    "else: \n",
    "     print(\"Invalid email\")"
   ]
  },
  {
   "cell_type": "code",
   "execution_count": 59,
   "id": "709ce56a",
   "metadata": {},
   "outputs": [
    {
     "name": "stdout",
     "output_type": "stream",
     "text": [
      "maryamhesham\n",
      "gmail.com\n"
     ]
    }
   ],
   "source": [
    "email= input(\"pleas enter your email\")\n",
    "username , domain =email.split(\"@\")\n",
    "print(username)\n",
    "print(domain)\n",
    "\n",
    "\n"
   ]
  },
  {
   "cell_type": "code",
   "execution_count": 65,
   "id": "1354b3a0",
   "metadata": {},
   "outputs": [
    {
     "name": "stdout",
     "output_type": "stream",
     "text": [
      "Commercial Domain\n"
     ]
    }
   ],
   "source": [
    "email= input(\"pleas enter your email\")\n",
    "if\"@\" in email: domain = email.split(\"@\")\n",
    "\n",
    "if email.endswith(\".com\"):\n",
    "    print(\"Commercial Domain\")\n",
    "elif email.endswith(\".edu\"):\n",
    "    print(\"Educational Domain\")\n",
    "else: print(\"Other Domain\")"
   ]
  },
  {
   "cell_type": "markdown",
   "id": "f0ae6726",
   "metadata": {},
   "source": [
    "task 2"
   ]
  },
  {
   "cell_type": "code",
   "execution_count": 1,
   "id": "4563a7b6",
   "metadata": {},
   "outputs": [
    {
     "name": "stdout",
     "output_type": "stream",
     "text": [
      "mocleW EPGTQ\n",
      " Welcom EPGTQ\n"
     ]
    }
   ],
   "source": [
    "a, b, c =\"###!!@\" ,\"mocleW EPGTQ\" ,\"!!!6789\"\n",
    "print(b)\n",
    "word = (\"mocleW \")\n",
    "reversed_word = word[::-1]\n",
    "print(reversed_word,\"EPGTQ\")"
   ]
  },
  {
   "cell_type": "markdown",
   "id": "83da2e62",
   "metadata": {},
   "source": [
    "task 3"
   ]
  },
  {
   "cell_type": "code",
   "execution_count": 1,
   "id": "5f26af23",
   "metadata": {},
   "outputs": [
    {
     "name": "stdout",
     "output_type": "stream",
     "text": [
      "gnirtS PLIO\n",
      "string PLIO\n"
     ]
    }
   ],
   "source": [
    "n, m, k = \"&&&**$\",\"gnirtS PLIO\", \"!!@1234\"\n",
    "print (m)\n",
    "word = (\"gnirts\")\n",
    "reversed_word= word[::-1]\n",
    "print(reversed_word,\"PLIO\")"
   ]
  },
  {
   "cell_type": "markdown",
   "id": "b9781259",
   "metadata": {},
   "source": [
    "task 4"
   ]
  },
  {
   "cell_type": "code",
   "execution_count": 6,
   "id": "74788aa7",
   "metadata": {},
   "outputs": [
    {
     "name": "stdout",
     "output_type": "stream",
     "text": [
      " yalpstcejorp EPUVT\n",
      "projectsplay EPUVT\n"
     ]
    }
   ],
   "source": [
    "w, e ,r = \"##$$$@!\", \" yalpstcejorp EPUVT\" , \"****9887\"\n",
    "print(e)\n",
    "word = (\"yalpstcejorp\")\n",
    "reversed_word=word[::-1]\n",
    "print(reversed_word,\"EPUVT\")\n"
   ]
  },
  {
   "cell_type": "code",
   "execution_count": null,
   "id": "13850ebc",
   "metadata": {},
   "outputs": [],
   "source": []
  }
 ],
 "metadata": {
  "kernelspec": {
   "display_name": "Python 3",
   "language": "python",
   "name": "python3"
  },
  "language_info": {
   "codemirror_mode": {
    "name": "ipython",
    "version": 3
   },
   "file_extension": ".py",
   "mimetype": "text/x-python",
   "name": "python",
   "nbconvert_exporter": "python",
   "pygments_lexer": "ipython3",
   "version": "3.12.4"
  }
 },
 "nbformat": 4,
 "nbformat_minor": 5
}
